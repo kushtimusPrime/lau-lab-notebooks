{
 "cells": [
  {
   "cell_type": "code",
   "execution_count": 1,
   "metadata": {},
   "outputs": [],
   "source": [
    "import numpy as np\n",
    "import pandas as pd\n",
    "import scanpy as sc\n",
    "import anndata\n",
    "import scipy as scp"
   ]
  },
  {
   "cell_type": "code",
   "execution_count": 2,
   "metadata": {},
   "outputs": [],
   "source": [
    "folderWithFiles='/media/kush/2TB HDD A/kallisto_bustools_getting_started/bus_output_07/spliced'"
   ]
  },
  {
   "cell_type": "code",
   "execution_count": 3,
   "metadata": {},
   "outputs": [],
   "source": [
    "output_file=open('/media/kush/2TB HDD A/kallisto_bustools_getting_started/bus_output_07/spliced/remake.genes.txt','w')"
   ]
  },
  {
   "cell_type": "code",
   "execution_count": 4,
   "metadata": {},
   "outputs": [],
   "source": [
    "data=pd.read_csv('/media/kush/2TB HDD A/kallisto_bustools_getting_started/cDNA_introns.t2g.txt',sep='\\t',header=None)"
   ]
  },
  {
   "cell_type": "code",
   "execution_count": 6,
   "metadata": {},
   "outputs": [],
   "source": [
    "data.columns=[\"Number\",\"GID\",\"Gene Code\"]"
   ]
  },
  {
   "cell_type": "code",
   "execution_count": 10,
   "metadata": {},
   "outputs": [
    {
     "name": "stdout",
     "output_type": "stream",
     "text": [
      "                        Number              GID    Gene Code\n",
      "0            ENST00000456328.1  ENSG00000223972      DDX11L1\n",
      "2            ENST00000488147.3  ENSG00000227232       WASH7P\n",
      "3            ENST00000619216.4  ENSG00000278267    MIR6859-1\n",
      "4            ENST00000473358.5  ENSG00000243485  MIR1302-2HG\n",
      "6            ENST00000607096.7  ENSG00000284332    MIR1302-2\n",
      "...                        ...              ...          ...\n",
      "226805  ENST00000618998.226806  ENSG00000275757    RNA5-8SN2\n",
      "226806  ENST00000615362.226807  ENSG00000278573     AC007325\n",
      "226807  ENST00000617983.226808  ENSG00000276017     AC007325\n",
      "226808  ENST00000613204.226809  ENSG00000278817     AC007325\n",
      "226809  ENST00000615165.226810  ENSG00000277196     AC007325\n",
      "\n",
      "[64792 rows x 3 columns]\n"
     ]
    }
   ],
   "source": [
    "data.drop_duplicates(subset =\"GID\", keep = \"first\", inplace = True) \n",
    "print(data)"
   ]
  },
  {
   "cell_type": "code",
   "execution_count": 13,
   "metadata": {},
   "outputs": [
    {
     "name": "stdout",
     "output_type": "stream",
     "text": [
      "0             DDX11L1\n",
      "2              WASH7P\n",
      "3           MIR6859-1\n",
      "4         MIR1302-2HG\n",
      "6           MIR1302-2\n",
      "             ...     \n",
      "226805      RNA5-8SN2\n",
      "226806       AC007325\n",
      "226807       AC007325\n",
      "226808       AC007325\n",
      "226809       AC007325\n",
      "Name: Gene Code, Length: 64792, dtype: object\n"
     ]
    }
   ],
   "source": [
    "geneCodeData=data[\"Gene Code\"]\n",
    "print(geneCodeData)"
   ]
  },
  {
   "cell_type": "code",
   "execution_count": 15,
   "metadata": {},
   "outputs": [],
   "source": [
    "dataList=list(geneCodeData)\n",
    "for i in dataList:\n",
    "    output_file.write(i+\"\\n\")\n",
    "output_file.close()"
   ]
  },
  {
   "cell_type": "code",
   "execution_count": 16,
   "metadata": {},
   "outputs": [
    {
     "name": "stdout",
     "output_type": "stream",
     "text": [
      "                  DDX11L1  WASH7P  MIR6859-1  MIR1302-2HG  MIR1302-2  FAM138A  \\\n",
      "AAACCTGAGAAACCTA      0.0     0.0        0.0          0.0        0.0      0.0   \n",
      "AAACCTGAGAAACGAG      0.0     0.0        0.0          0.0        0.0      0.0   \n",
      "AAACCTGAGAAACGCC      0.0     0.0        0.0          0.0        0.0      0.0   \n",
      "AAACCTGAGAACAATC      0.0     0.0        0.0          0.0        0.0      0.0   \n",
      "AAACCTGAGAAGGTGA      0.0     0.0        0.0          0.0        0.0      0.0   \n",
      "...                   ...     ...        ...          ...        ...      ...   \n",
      "TTTGTCATCTTGTATC      0.0     0.0        0.0          0.0        0.0      0.0   \n",
      "TTTGTCATCTTGTTTG      0.0     0.0        0.0          0.0        0.0      0.0   \n",
      "TTTGTCATCTTTACAC      0.0     0.0        0.0          0.0        0.0      0.0   \n",
      "TTTGTCATCTTTACGT      0.0     0.0        0.0          0.0        0.0      0.0   \n",
      "TTTGTCATCTTTAGTC      0.0     0.0        0.0          0.0        0.0      0.0   \n",
      "\n",
      "                  OR4G4P  OR4G11P  OR4F5  AL627309  ...  AC023491  AC023491  \\\n",
      "AAACCTGAGAAACCTA     0.0      0.0    0.0       0.0  ...       0.0       0.0   \n",
      "AAACCTGAGAAACGAG     0.0      0.0    0.0       0.0  ...       0.0       0.0   \n",
      "AAACCTGAGAAACGCC     0.0      0.0    0.0       0.0  ...       0.0       0.0   \n",
      "AAACCTGAGAACAATC     0.0      0.0    0.0       0.0  ...       0.0       0.0   \n",
      "AAACCTGAGAAGGTGA     0.0      0.0    0.0       0.0  ...       0.0       0.0   \n",
      "...                  ...      ...    ...       ...  ...       ...       ...   \n",
      "TTTGTCATCTTGTATC     0.0      0.0    0.0       0.0  ...       0.0       0.0   \n",
      "TTTGTCATCTTGTTTG     0.0      0.0    0.0       0.0  ...       0.0       0.0   \n",
      "TTTGTCATCTTTACAC     0.0      0.0    0.0       0.0  ...       0.0       0.0   \n",
      "TTTGTCATCTTTACGT     0.0      0.0    0.0       0.0  ...       0.0       0.0   \n",
      "TTTGTCATCTTTAGTC     0.0      0.0    0.0       0.0  ...       0.0       0.0   \n",
      "\n",
      "                  RF01518  RNA5-8SN2  RF01518  RNA5-8SN2  AC007325  AC007325  \\\n",
      "AAACCTGAGAAACCTA      0.0        0.0      0.0        0.0       0.0       0.0   \n",
      "AAACCTGAGAAACGAG      0.0        0.0      0.0        0.0       0.0       0.0   \n",
      "AAACCTGAGAAACGCC      0.0        0.0      0.0        0.0       0.0       0.0   \n",
      "AAACCTGAGAACAATC      0.0        0.0      0.0        0.0       0.0       0.0   \n",
      "AAACCTGAGAAGGTGA      0.0        0.0      0.0        0.0       0.0       0.0   \n",
      "...                   ...        ...      ...        ...       ...       ...   \n",
      "TTTGTCATCTTGTATC      0.0        0.0      0.0        0.0       0.0       0.0   \n",
      "TTTGTCATCTTGTTTG      0.0        0.0      0.0        0.0       0.0       0.0   \n",
      "TTTGTCATCTTTACAC      0.0        0.0      0.0        0.0       0.0       0.0   \n",
      "TTTGTCATCTTTACGT      0.0        0.0      0.0        0.0       0.0       0.0   \n",
      "TTTGTCATCTTTAGTC      0.0        0.0      0.0        0.0       0.0       0.0   \n",
      "\n",
      "                  AC007325  AC007325  \n",
      "AAACCTGAGAAACCTA       0.0       0.0  \n",
      "AAACCTGAGAAACGAG       0.0       0.0  \n",
      "AAACCTGAGAAACGCC       0.0       0.0  \n",
      "AAACCTGAGAACAATC       0.0       0.0  \n",
      "AAACCTGAGAAGGTGA       0.0       0.0  \n",
      "...                    ...       ...  \n",
      "TTTGTCATCTTGTATC       0.0       0.0  \n",
      "TTTGTCATCTTGTTTG       0.0       0.0  \n",
      "TTTGTCATCTTTACAC       0.0       0.0  \n",
      "TTTGTCATCTTTACGT       0.0       0.0  \n",
      "TTTGTCATCTTTAGTC       0.0       0.0  \n",
      "\n",
      "[299566 rows x 64792 columns]\n"
     ]
    }
   ],
   "source": [
    "matrix=sc.read_mtx(folderWithFiles+'/s.mtx')\n",
    "barcodes=pd.read_csv(folderWithFiles+'/s.barcodes.txt',header=None)\n",
    "genes=pd.read_csv(folderWithFiles+'/remake.genes.txt',header=None)\n",
    "matrix.obs.index = barcodes[0].values\n",
    "matrix.var.index = genes[0].values\n",
    "dfMatrix=matrix.to_df()"
   ]
  },
  {
   "cell_type": "code",
   "execution_count": 25,
   "metadata": {},
   "outputs": [
    {
     "name": "stdout",
     "output_type": "stream",
     "text": [
      "                  DDX11L1  WASH7P  MIR6859-1  MIR1302-2HG  MIR1302-2  FAM138A  \\\n",
      "AAACCTGAGAAACCTA      0.0     0.0        0.0          0.0        0.0      0.0   \n",
      "AAACCTGAGAAACGAG      0.0     0.0        0.0          0.0        0.0      0.0   \n",
      "AAACCTGAGAAACGCC      0.0     0.0        0.0          0.0        0.0      0.0   \n",
      "AAACCTGAGAACAATC      0.0     0.0        0.0          0.0        0.0      0.0   \n",
      "AAACCTGAGAAGGTGA      0.0     0.0        0.0          0.0        0.0      0.0   \n",
      "...                   ...     ...        ...          ...        ...      ...   \n",
      "TTTGTCATCTTGTATC      0.0     0.0        0.0          0.0        0.0      0.0   \n",
      "TTTGTCATCTTGTTTG      0.0     0.0        0.0          0.0        0.0      0.0   \n",
      "TTTGTCATCTTTACAC      0.0     0.0        0.0          0.0        0.0      0.0   \n",
      "TTTGTCATCTTTACGT      0.0     0.0        0.0          0.0        0.0      0.0   \n",
      "TTTGTCATCTTTAGTC      0.0     0.0        0.0          0.0        0.0      0.0   \n",
      "\n",
      "                  OR4G4P  OR4G11P  OR4F5  AL627309  ...  AC023491  AC023491  \\\n",
      "AAACCTGAGAAACCTA     0.0      0.0    0.0       0.0  ...       0.0       0.0   \n",
      "AAACCTGAGAAACGAG     0.0      0.0    0.0       0.0  ...       0.0       0.0   \n",
      "AAACCTGAGAAACGCC     0.0      0.0    0.0       0.0  ...       0.0       0.0   \n",
      "AAACCTGAGAACAATC     0.0      0.0    0.0       0.0  ...       0.0       0.0   \n",
      "AAACCTGAGAAGGTGA     0.0      0.0    0.0       0.0  ...       0.0       0.0   \n",
      "...                  ...      ...    ...       ...  ...       ...       ...   \n",
      "TTTGTCATCTTGTATC     0.0      0.0    0.0       0.0  ...       0.0       0.0   \n",
      "TTTGTCATCTTGTTTG     0.0      0.0    0.0       0.0  ...       0.0       0.0   \n",
      "TTTGTCATCTTTACAC     0.0      0.0    0.0       0.0  ...       0.0       0.0   \n",
      "TTTGTCATCTTTACGT     0.0      0.0    0.0       0.0  ...       0.0       0.0   \n",
      "TTTGTCATCTTTAGTC     0.0      0.0    0.0       0.0  ...       0.0       0.0   \n",
      "\n",
      "                  RF01518  RNA5-8SN2  RF01518  RNA5-8SN2  AC007325  AC007325  \\\n",
      "AAACCTGAGAAACCTA      0.0        0.0      0.0        0.0       0.0       0.0   \n",
      "AAACCTGAGAAACGAG      0.0        0.0      0.0        0.0       0.0       0.0   \n",
      "AAACCTGAGAAACGCC      0.0        0.0      0.0        0.0       0.0       0.0   \n",
      "AAACCTGAGAACAATC      0.0        0.0      0.0        0.0       0.0       0.0   \n",
      "AAACCTGAGAAGGTGA      0.0        0.0      0.0        0.0       0.0       0.0   \n",
      "...                   ...        ...      ...        ...       ...       ...   \n",
      "TTTGTCATCTTGTATC      0.0        0.0      0.0        0.0       0.0       0.0   \n",
      "TTTGTCATCTTGTTTG      0.0        0.0      0.0        0.0       0.0       0.0   \n",
      "TTTGTCATCTTTACAC      0.0        0.0      0.0        0.0       0.0       0.0   \n",
      "TTTGTCATCTTTACGT      0.0        0.0      0.0        0.0       0.0       0.0   \n",
      "TTTGTCATCTTTAGTC      0.0        0.0      0.0        0.0       0.0       0.0   \n",
      "\n",
      "                  AC007325  AC007325  \n",
      "AAACCTGAGAAACCTA       0.0       0.0  \n",
      "AAACCTGAGAAACGAG       0.0       0.0  \n",
      "AAACCTGAGAAACGCC       0.0       0.0  \n",
      "AAACCTGAGAACAATC       0.0       0.0  \n",
      "AAACCTGAGAAGGTGA       0.0       0.0  \n",
      "...                    ...       ...  \n",
      "TTTGTCATCTTGTATC       0.0       0.0  \n",
      "TTTGTCATCTTGTTTG       0.0       0.0  \n",
      "TTTGTCATCTTTACAC       0.0       0.0  \n",
      "TTTGTCATCTTTACGT       0.0       0.0  \n",
      "TTTGTCATCTTTAGTC       0.0       0.0  \n",
      "\n",
      "[299566 rows x 64792 columns]\n"
     ]
    }
   ],
   "source": [
    "dfMatrix.groupby(dfMatrix.columns.values,axis=1)\n",
    "print(dfMatrix)"
   ]
  },
  {
   "cell_type": "code",
   "execution_count": 26,
   "metadata": {},
   "outputs": [
    {
     "name": "stdout",
     "output_type": "stream",
     "text": [
      "A1BG                    [A1BG]\n",
      "A1BG-AS1            [A1BG-AS1]\n",
      "A1CF                    [A1CF]\n",
      "A2M                      [A2M]\n",
      "A2M-AS1              [A2M-AS1]\n",
      "                     ...      \n",
      "ZYG11B                [ZYG11B]\n",
      "ZYX                 [ZYX, ZYX]\n",
      "ZYXP1                  [ZYXP1]\n",
      "ZZEF1                  [ZZEF1]\n",
      "hsa-mir-1253    [hsa-mir-1253]\n",
      "Length: 49311, dtype: object\n"
     ]
    }
   ],
   "source": [
    "grouped_columns = dfMatrix.groupby(dfMatrix.columns.values, axis=1).apply(lambda g: g.columns.tolist())  \n",
    "print(grouped_columns)"
   ]
  },
  {
   "cell_type": "code",
   "execution_count": 27,
   "metadata": {},
   "outputs": [
    {
     "name": "stdout",
     "output_type": "stream",
     "text": [
      "                  A1BG  A1BG-AS1  A1CF  A2M  A2M-AS1  A2ML1  A2ML1-AS1  \\\n",
      "AAACCTGAGAAACCTA   0.0       0.0   0.0  0.0      0.0    0.0        0.0   \n",
      "AAACCTGAGAAACGAG   0.0       0.0   0.0  0.0      0.0    0.0        0.0   \n",
      "AAACCTGAGAAACGCC   0.0       0.0   0.0  0.0      0.0    0.0        0.0   \n",
      "AAACCTGAGAACAATC   0.0       0.0   0.0  0.0      0.0    0.0        0.0   \n",
      "AAACCTGAGAAGGTGA   0.0       0.0   0.0  0.0      0.0    0.0        0.0   \n",
      "...                ...       ...   ...  ...      ...    ...        ...   \n",
      "TTTGTCATCTTGTATC   0.0       0.0   0.0  0.0      0.0    0.0        0.0   \n",
      "TTTGTCATCTTGTTTG   0.0       0.0   0.0  0.0      0.0    0.0        0.0   \n",
      "TTTGTCATCTTTACAC   0.0       0.0   0.0  0.0      0.0    0.0        0.0   \n",
      "TTTGTCATCTTTACGT   0.0       0.0   0.0  0.0      0.0    0.0        0.0   \n",
      "TTTGTCATCTTTAGTC   0.0       0.0   0.0  0.0      0.0    0.0        0.0   \n",
      "\n",
      "                  A2ML1-AS2  A2MP1  A3GALT2  ...  ZXDB  ZXDC  ZYG11A  \\\n",
      "AAACCTGAGAAACCTA        0.0    0.0      0.0  ...   0.0   0.0     0.0   \n",
      "AAACCTGAGAAACGAG        0.0    0.0      0.0  ...   0.0   0.0     0.0   \n",
      "AAACCTGAGAAACGCC        0.0    0.0      0.0  ...   0.0   0.0     0.0   \n",
      "AAACCTGAGAACAATC        0.0    0.0      0.0  ...   0.0   0.0     0.0   \n",
      "AAACCTGAGAAGGTGA        0.0    0.0      0.0  ...   0.0   0.0     0.0   \n",
      "...                     ...    ...      ...  ...   ...   ...     ...   \n",
      "TTTGTCATCTTGTATC        0.0    0.0      0.0  ...   0.0   0.0     0.0   \n",
      "TTTGTCATCTTGTTTG        0.0    0.0      0.0  ...   0.0   0.0     0.0   \n",
      "TTTGTCATCTTTACAC        0.0    0.0      0.0  ...   0.0   0.0     0.0   \n",
      "TTTGTCATCTTTACGT        0.0    0.0      0.0  ...   0.0   0.0     0.0   \n",
      "TTTGTCATCTTTAGTC        0.0    0.0      0.0  ...   0.0   0.0     0.0   \n",
      "\n",
      "                  ZYG11AP1  ZYG11B  ZYX  ZYX  ZYXP1  ZZEF1  hsa-mir-1253  \n",
      "AAACCTGAGAAACCTA       0.0     0.0  0.0  0.0    0.0    0.0           0.0  \n",
      "AAACCTGAGAAACGAG       0.0     0.0  0.0  0.0    0.0    0.0           0.0  \n",
      "AAACCTGAGAAACGCC       0.0     0.0  0.0  0.0    0.0    0.0           0.0  \n",
      "AAACCTGAGAACAATC       0.0     0.0  0.0  0.0    0.0    0.0           0.0  \n",
      "AAACCTGAGAAGGTGA       0.0     0.0  0.0  0.0    0.0    0.0           0.0  \n",
      "...                    ...     ...  ...  ...    ...    ...           ...  \n",
      "TTTGTCATCTTGTATC       0.0     0.0  0.0  0.0    0.0    0.0           0.0  \n",
      "TTTGTCATCTTGTTTG       0.0     0.0  0.0  0.0    0.0    0.0           0.0  \n",
      "TTTGTCATCTTTACAC       0.0     0.0  0.0  0.0    0.0    0.0           0.0  \n",
      "TTTGTCATCTTTACGT       0.0     0.0  0.0  0.0    0.0    0.0           0.0  \n",
      "TTTGTCATCTTTAGTC       0.0     0.0  0.0  0.0    0.0    0.0           0.0  \n",
      "\n",
      "[299566 rows x 64792 columns]\n"
     ]
    }
   ],
   "source": [
    "unique_df = dfMatrix.loc[:, grouped_columns.str[0]]\n",
    "print(unique_df)"
   ]
  },
  {
   "cell_type": "code",
   "execution_count": 28,
   "metadata": {},
   "outputs": [
    {
     "ename": "ValueError",
     "evalue": "Length mismatch: Expected axis has 64792 elements, new values have 49311 elements",
     "output_type": "error",
     "traceback": [
      "\u001b[0;31m---------------------------------------------------------------------------\u001b[0m",
      "\u001b[0;31mValueError\u001b[0m                                Traceback (most recent call last)",
      "\u001b[0;32m<ipython-input-28-c19b78cad215>\u001b[0m in \u001b[0;36m<module>\u001b[0;34m\u001b[0m\n\u001b[0;32m----> 1\u001b[0;31m \u001b[0munique_df\u001b[0m\u001b[0;34m.\u001b[0m\u001b[0mcolumns\u001b[0m\u001b[0;34m=\u001b[0m\u001b[0mgrouped_columns\u001b[0m\u001b[0;34m.\u001b[0m\u001b[0mapply\u001b[0m\u001b[0;34m(\u001b[0m\u001b[0;34m\"-\"\u001b[0m\u001b[0;34m.\u001b[0m\u001b[0mjoin\u001b[0m\u001b[0;34m)\u001b[0m\u001b[0;34m\u001b[0m\u001b[0;34m\u001b[0m\u001b[0m\n\u001b[0m\u001b[1;32m      2\u001b[0m \u001b[0mprint\u001b[0m\u001b[0;34m(\u001b[0m\u001b[0munique_df\u001b[0m\u001b[0;34m)\u001b[0m\u001b[0;34m\u001b[0m\u001b[0;34m\u001b[0m\u001b[0m\n",
      "\u001b[0;32m~/anaconda3/envs/kush_conda_env/lib/python3.7/site-packages/pandas/core/generic.py\u001b[0m in \u001b[0;36m__setattr__\u001b[0;34m(self, name, value)\u001b[0m\n\u001b[1;32m   5190\u001b[0m         \u001b[0;32mtry\u001b[0m\u001b[0;34m:\u001b[0m\u001b[0;34m\u001b[0m\u001b[0;34m\u001b[0m\u001b[0m\n\u001b[1;32m   5191\u001b[0m             \u001b[0mobject\u001b[0m\u001b[0;34m.\u001b[0m\u001b[0m__getattribute__\u001b[0m\u001b[0;34m(\u001b[0m\u001b[0mself\u001b[0m\u001b[0;34m,\u001b[0m \u001b[0mname\u001b[0m\u001b[0;34m)\u001b[0m\u001b[0;34m\u001b[0m\u001b[0;34m\u001b[0m\u001b[0m\n\u001b[0;32m-> 5192\u001b[0;31m             \u001b[0;32mreturn\u001b[0m \u001b[0mobject\u001b[0m\u001b[0;34m.\u001b[0m\u001b[0m__setattr__\u001b[0m\u001b[0;34m(\u001b[0m\u001b[0mself\u001b[0m\u001b[0;34m,\u001b[0m \u001b[0mname\u001b[0m\u001b[0;34m,\u001b[0m \u001b[0mvalue\u001b[0m\u001b[0;34m)\u001b[0m\u001b[0;34m\u001b[0m\u001b[0;34m\u001b[0m\u001b[0m\n\u001b[0m\u001b[1;32m   5193\u001b[0m         \u001b[0;32mexcept\u001b[0m \u001b[0mAttributeError\u001b[0m\u001b[0;34m:\u001b[0m\u001b[0;34m\u001b[0m\u001b[0;34m\u001b[0m\u001b[0m\n\u001b[1;32m   5194\u001b[0m             \u001b[0;32mpass\u001b[0m\u001b[0;34m\u001b[0m\u001b[0;34m\u001b[0m\u001b[0m\n",
      "\u001b[0;32mpandas/_libs/properties.pyx\u001b[0m in \u001b[0;36mpandas._libs.properties.AxisProperty.__set__\u001b[0;34m()\u001b[0m\n",
      "\u001b[0;32m~/anaconda3/envs/kush_conda_env/lib/python3.7/site-packages/pandas/core/generic.py\u001b[0m in \u001b[0;36m_set_axis\u001b[0;34m(self, axis, labels)\u001b[0m\n\u001b[1;32m    688\u001b[0m \u001b[0;34m\u001b[0m\u001b[0m\n\u001b[1;32m    689\u001b[0m     \u001b[0;32mdef\u001b[0m \u001b[0m_set_axis\u001b[0m\u001b[0;34m(\u001b[0m\u001b[0mself\u001b[0m\u001b[0;34m,\u001b[0m \u001b[0maxis\u001b[0m\u001b[0;34m,\u001b[0m \u001b[0mlabels\u001b[0m\u001b[0;34m)\u001b[0m\u001b[0;34m:\u001b[0m\u001b[0;34m\u001b[0m\u001b[0;34m\u001b[0m\u001b[0m\n\u001b[0;32m--> 690\u001b[0;31m         \u001b[0mself\u001b[0m\u001b[0;34m.\u001b[0m\u001b[0m_data\u001b[0m\u001b[0;34m.\u001b[0m\u001b[0mset_axis\u001b[0m\u001b[0;34m(\u001b[0m\u001b[0maxis\u001b[0m\u001b[0;34m,\u001b[0m \u001b[0mlabels\u001b[0m\u001b[0;34m)\u001b[0m\u001b[0;34m\u001b[0m\u001b[0;34m\u001b[0m\u001b[0m\n\u001b[0m\u001b[1;32m    691\u001b[0m         \u001b[0mself\u001b[0m\u001b[0;34m.\u001b[0m\u001b[0m_clear_item_cache\u001b[0m\u001b[0;34m(\u001b[0m\u001b[0;34m)\u001b[0m\u001b[0;34m\u001b[0m\u001b[0;34m\u001b[0m\u001b[0m\n\u001b[1;32m    692\u001b[0m \u001b[0;34m\u001b[0m\u001b[0m\n",
      "\u001b[0;32m~/anaconda3/envs/kush_conda_env/lib/python3.7/site-packages/pandas/core/internals/managers.py\u001b[0m in \u001b[0;36mset_axis\u001b[0;34m(self, axis, new_labels)\u001b[0m\n\u001b[1;32m    181\u001b[0m             raise ValueError(\n\u001b[1;32m    182\u001b[0m                 \u001b[0;34m\"Length mismatch: Expected axis has {old} elements, new \"\u001b[0m\u001b[0;34m\u001b[0m\u001b[0;34m\u001b[0m\u001b[0m\n\u001b[0;32m--> 183\u001b[0;31m                 \u001b[0;34m\"values have {new} elements\"\u001b[0m\u001b[0;34m.\u001b[0m\u001b[0mformat\u001b[0m\u001b[0;34m(\u001b[0m\u001b[0mold\u001b[0m\u001b[0;34m=\u001b[0m\u001b[0mold_len\u001b[0m\u001b[0;34m,\u001b[0m \u001b[0mnew\u001b[0m\u001b[0;34m=\u001b[0m\u001b[0mnew_len\u001b[0m\u001b[0;34m)\u001b[0m\u001b[0;34m\u001b[0m\u001b[0;34m\u001b[0m\u001b[0m\n\u001b[0m\u001b[1;32m    184\u001b[0m             )\n\u001b[1;32m    185\u001b[0m \u001b[0;34m\u001b[0m\u001b[0m\n",
      "\u001b[0;31mValueError\u001b[0m: Length mismatch: Expected axis has 64792 elements, new values have 49311 elements"
     ]
    }
   ],
   "source": [
    "unique_df.columns=grouped_columns.apply(\"-\".join)\n",
    "print(unique_df)"
   ]
  },
  {
   "cell_type": "code",
   "execution_count": 31,
   "metadata": {},
   "outputs": [
    {
     "ename": "TypeError",
     "evalue": "('sequence item 0: expected str instance, float found', 'occurred at index AAACCTGAGAAACCTA')",
     "output_type": "error",
     "traceback": [
      "\u001b[0;31m---------------------------------------------------------------------------\u001b[0m",
      "\u001b[0;31mTypeError\u001b[0m                                 Traceback (most recent call last)",
      "\u001b[0;32m<ipython-input-31-0271b043c93f>\u001b[0m in \u001b[0;36m<module>\u001b[0;34m\u001b[0m\n\u001b[0;32m----> 1\u001b[0;31m \u001b[0mdfMatrix\u001b[0m\u001b[0;34m[\u001b[0m\u001b[0;34m'new_ZYX'\u001b[0m\u001b[0;34m]\u001b[0m\u001b[0;34m=\u001b[0m\u001b[0mdfMatrix\u001b[0m\u001b[0;34m[\u001b[0m\u001b[0;34m\"ZYX\"\u001b[0m\u001b[0;34m]\u001b[0m\u001b[0;34m.\u001b[0m\u001b[0mapply\u001b[0m\u001b[0;34m(\u001b[0m\u001b[0;32mlambda\u001b[0m \u001b[0mx\u001b[0m\u001b[0;34m:\u001b[0m \u001b[0;34m'+'\u001b[0m\u001b[0;34m.\u001b[0m\u001b[0mjoin\u001b[0m\u001b[0;34m(\u001b[0m\u001b[0mx\u001b[0m\u001b[0;34m)\u001b[0m\u001b[0;34m,\u001b[0m \u001b[0maxis\u001b[0m\u001b[0;34m=\u001b[0m\u001b[0;36m1\u001b[0m\u001b[0;34m)\u001b[0m\u001b[0;34m\u001b[0m\u001b[0;34m\u001b[0m\u001b[0m\n\u001b[0m",
      "\u001b[0;32m~/anaconda3/envs/kush_conda_env/lib/python3.7/site-packages/pandas/core/frame.py\u001b[0m in \u001b[0;36mapply\u001b[0;34m(self, func, axis, broadcast, raw, reduce, result_type, args, **kwds)\u001b[0m\n\u001b[1;32m   6926\u001b[0m             \u001b[0mkwds\u001b[0m\u001b[0;34m=\u001b[0m\u001b[0mkwds\u001b[0m\u001b[0;34m,\u001b[0m\u001b[0;34m\u001b[0m\u001b[0;34m\u001b[0m\u001b[0m\n\u001b[1;32m   6927\u001b[0m         )\n\u001b[0;32m-> 6928\u001b[0;31m         \u001b[0;32mreturn\u001b[0m \u001b[0mop\u001b[0m\u001b[0;34m.\u001b[0m\u001b[0mget_result\u001b[0m\u001b[0;34m(\u001b[0m\u001b[0;34m)\u001b[0m\u001b[0;34m\u001b[0m\u001b[0;34m\u001b[0m\u001b[0m\n\u001b[0m\u001b[1;32m   6929\u001b[0m \u001b[0;34m\u001b[0m\u001b[0m\n\u001b[1;32m   6930\u001b[0m     \u001b[0;32mdef\u001b[0m \u001b[0mapplymap\u001b[0m\u001b[0;34m(\u001b[0m\u001b[0mself\u001b[0m\u001b[0;34m,\u001b[0m \u001b[0mfunc\u001b[0m\u001b[0;34m)\u001b[0m\u001b[0;34m:\u001b[0m\u001b[0;34m\u001b[0m\u001b[0;34m\u001b[0m\u001b[0m\n",
      "\u001b[0;32m~/anaconda3/envs/kush_conda_env/lib/python3.7/site-packages/pandas/core/apply.py\u001b[0m in \u001b[0;36mget_result\u001b[0;34m(self)\u001b[0m\n\u001b[1;32m    184\u001b[0m             \u001b[0;32mreturn\u001b[0m \u001b[0mself\u001b[0m\u001b[0;34m.\u001b[0m\u001b[0mapply_raw\u001b[0m\u001b[0;34m(\u001b[0m\u001b[0;34m)\u001b[0m\u001b[0;34m\u001b[0m\u001b[0;34m\u001b[0m\u001b[0m\n\u001b[1;32m    185\u001b[0m \u001b[0;34m\u001b[0m\u001b[0m\n\u001b[0;32m--> 186\u001b[0;31m         \u001b[0;32mreturn\u001b[0m \u001b[0mself\u001b[0m\u001b[0;34m.\u001b[0m\u001b[0mapply_standard\u001b[0m\u001b[0;34m(\u001b[0m\u001b[0;34m)\u001b[0m\u001b[0;34m\u001b[0m\u001b[0;34m\u001b[0m\u001b[0m\n\u001b[0m\u001b[1;32m    187\u001b[0m \u001b[0;34m\u001b[0m\u001b[0m\n\u001b[1;32m    188\u001b[0m     \u001b[0;32mdef\u001b[0m \u001b[0mapply_empty_result\u001b[0m\u001b[0;34m(\u001b[0m\u001b[0mself\u001b[0m\u001b[0;34m)\u001b[0m\u001b[0;34m:\u001b[0m\u001b[0;34m\u001b[0m\u001b[0;34m\u001b[0m\u001b[0m\n",
      "\u001b[0;32m~/anaconda3/envs/kush_conda_env/lib/python3.7/site-packages/pandas/core/apply.py\u001b[0m in \u001b[0;36mapply_standard\u001b[0;34m(self)\u001b[0m\n\u001b[1;32m    290\u001b[0m \u001b[0;34m\u001b[0m\u001b[0m\n\u001b[1;32m    291\u001b[0m         \u001b[0;31m# compute the result using the series generator\u001b[0m\u001b[0;34m\u001b[0m\u001b[0;34m\u001b[0m\u001b[0;34m\u001b[0m\u001b[0m\n\u001b[0;32m--> 292\u001b[0;31m         \u001b[0mself\u001b[0m\u001b[0;34m.\u001b[0m\u001b[0mapply_series_generator\u001b[0m\u001b[0;34m(\u001b[0m\u001b[0;34m)\u001b[0m\u001b[0;34m\u001b[0m\u001b[0;34m\u001b[0m\u001b[0m\n\u001b[0m\u001b[1;32m    293\u001b[0m \u001b[0;34m\u001b[0m\u001b[0m\n\u001b[1;32m    294\u001b[0m         \u001b[0;31m# wrap results\u001b[0m\u001b[0;34m\u001b[0m\u001b[0;34m\u001b[0m\u001b[0;34m\u001b[0m\u001b[0m\n",
      "\u001b[0;32m~/anaconda3/envs/kush_conda_env/lib/python3.7/site-packages/pandas/core/apply.py\u001b[0m in \u001b[0;36mapply_series_generator\u001b[0;34m(self)\u001b[0m\n\u001b[1;32m    319\u001b[0m             \u001b[0;32mtry\u001b[0m\u001b[0;34m:\u001b[0m\u001b[0;34m\u001b[0m\u001b[0;34m\u001b[0m\u001b[0m\n\u001b[1;32m    320\u001b[0m                 \u001b[0;32mfor\u001b[0m \u001b[0mi\u001b[0m\u001b[0;34m,\u001b[0m \u001b[0mv\u001b[0m \u001b[0;32min\u001b[0m \u001b[0menumerate\u001b[0m\u001b[0;34m(\u001b[0m\u001b[0mseries_gen\u001b[0m\u001b[0;34m)\u001b[0m\u001b[0;34m:\u001b[0m\u001b[0;34m\u001b[0m\u001b[0;34m\u001b[0m\u001b[0m\n\u001b[0;32m--> 321\u001b[0;31m                     \u001b[0mresults\u001b[0m\u001b[0;34m[\u001b[0m\u001b[0mi\u001b[0m\u001b[0;34m]\u001b[0m \u001b[0;34m=\u001b[0m \u001b[0mself\u001b[0m\u001b[0;34m.\u001b[0m\u001b[0mf\u001b[0m\u001b[0;34m(\u001b[0m\u001b[0mv\u001b[0m\u001b[0;34m)\u001b[0m\u001b[0;34m\u001b[0m\u001b[0;34m\u001b[0m\u001b[0m\n\u001b[0m\u001b[1;32m    322\u001b[0m                     \u001b[0mkeys\u001b[0m\u001b[0;34m.\u001b[0m\u001b[0mappend\u001b[0m\u001b[0;34m(\u001b[0m\u001b[0mv\u001b[0m\u001b[0;34m.\u001b[0m\u001b[0mname\u001b[0m\u001b[0;34m)\u001b[0m\u001b[0;34m\u001b[0m\u001b[0;34m\u001b[0m\u001b[0m\n\u001b[1;32m    323\u001b[0m             \u001b[0;32mexcept\u001b[0m \u001b[0mException\u001b[0m \u001b[0;32mas\u001b[0m \u001b[0me\u001b[0m\u001b[0;34m:\u001b[0m\u001b[0;34m\u001b[0m\u001b[0;34m\u001b[0m\u001b[0m\n",
      "\u001b[0;32m<ipython-input-31-0271b043c93f>\u001b[0m in \u001b[0;36m<lambda>\u001b[0;34m(x)\u001b[0m\n\u001b[0;32m----> 1\u001b[0;31m \u001b[0mdfMatrix\u001b[0m\u001b[0;34m[\u001b[0m\u001b[0;34m'new_ZYX'\u001b[0m\u001b[0;34m]\u001b[0m\u001b[0;34m=\u001b[0m\u001b[0mdfMatrix\u001b[0m\u001b[0;34m[\u001b[0m\u001b[0;34m\"ZYX\"\u001b[0m\u001b[0;34m]\u001b[0m\u001b[0;34m.\u001b[0m\u001b[0mapply\u001b[0m\u001b[0;34m(\u001b[0m\u001b[0;32mlambda\u001b[0m \u001b[0mx\u001b[0m\u001b[0;34m:\u001b[0m \u001b[0;34m'+'\u001b[0m\u001b[0;34m.\u001b[0m\u001b[0mjoin\u001b[0m\u001b[0;34m(\u001b[0m\u001b[0mx\u001b[0m\u001b[0;34m)\u001b[0m\u001b[0;34m,\u001b[0m \u001b[0maxis\u001b[0m\u001b[0;34m=\u001b[0m\u001b[0;36m1\u001b[0m\u001b[0;34m)\u001b[0m\u001b[0;34m\u001b[0m\u001b[0;34m\u001b[0m\u001b[0m\n\u001b[0m",
      "\u001b[0;31mTypeError\u001b[0m: ('sequence item 0: expected str instance, float found', 'occurred at index AAACCTGAGAAACCTA')"
     ]
    }
   ],
   "source": [
    "dfMatrix['new_ZYX']=dfMatrix[\"ZYX\"].apply(lambda x: '+'.join(x), axis=1)"
   ]
  },
  {
   "cell_type": "code",
   "execution_count": null,
   "metadata": {},
   "outputs": [],
   "source": [
    "result=dfMatrix.merge(d)"
   ]
  }
 ],
 "metadata": {
  "kernelspec": {
   "display_name": "Python 3",
   "language": "python",
   "name": "python3"
  },
  "language_info": {
   "codemirror_mode": {
    "name": "ipython",
    "version": 3
   },
   "file_extension": ".py",
   "mimetype": "text/x-python",
   "name": "python",
   "nbconvert_exporter": "python",
   "pygments_lexer": "ipython3",
   "version": "3.7.4"
  }
 },
 "nbformat": 4,
 "nbformat_minor": 4
}
